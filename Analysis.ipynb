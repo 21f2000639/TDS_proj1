{
  "nbformat": 4,
  "nbformat_minor": 0,
  "metadata": {
    "colab": {
      "provenance": []
    },
    "kernelspec": {
      "name": "python3",
      "display_name": "Python 3"
    },
    "language_info": {
      "name": "python"
    }
  },
  "cells": [
    {
      "cell_type": "code",
      "execution_count": 1,
      "metadata": {
        "id": "-i6HjiGQ2qDm"
      },
      "outputs": [],
      "source": [
        "import pandas as pd\n",
        "import numpy as np\n"
      ]
    },
    {
      "cell_type": "code",
      "source": [
        "users = pd.read_csv('/content/users.csv')\n",
        "repos = pd.read_csv('/content/repositories.csv')"
      ],
      "metadata": {
        "id": "7LvmOJx_4z5j"
      },
      "execution_count": 13,
      "outputs": []
    },
    {
      "cell_type": "code",
      "source": [
        "users['created_at'] = pd.to_datetime(users['created_at'])\n",
        "users['hireable'] = users['hireable'].replace({True: 'true', False: 'false'})\n",
        "users.head()"
      ],
      "metadata": {
        "colab": {
          "base_uri": "https://localhost:8080/",
          "height": 451
        },
        "id": "MQ-I9fCH46z-",
        "outputId": "1a3a8fed-5a5d-4c0a-bc97-4e09d6d3d4d8"
      },
      "execution_count": 48,
      "outputs": [
        {
          "output_type": "execute_result",
          "data": {
            "text/plain": [
              "           login              name                  company  \\\n",
              "0   nicknochnack  Nicholas Renotte                      NaN   \n",
              "1   brendangregg     Brendan Gregg                    INTEL   \n",
              "2  cornflourblue     Jason Watmore  POINT BLANK DEVELOPMENT   \n",
              "3            0vm                Ak                      NaN   \n",
              "4     davecheney       Dave Cheney                   GITHUB   \n",
              "\n",
              "            location email hireable  \\\n",
              "0  Sydney, Australia   NaN    false   \n",
              "1  Sydney, Australia   NaN    false   \n",
              "2   Sydney Australia   NaN    false   \n",
              "3  Sydney, Australia   NaN     true   \n",
              "4  Sydney, Australia   NaN    false   \n",
              "\n",
              "                                                 bio  public_repos  followers  \\\n",
              "0                              Data Science guy @IBM           193      11697   \n",
              "1              Cloud computing performance engineer.            42       8025   \n",
              "2  Web Developer and Blogger, currently focusing ...           187       6701   \n",
              "3                                            erm hai            10       6569   \n",
              "4                      I service society by rocking.           163       6557   \n",
              "\n",
              "   following                created_at  leader_strength  \n",
              "0          5 2013-11-15 15:06:35+00:00      1949.500000  \n",
              "1          0 2011-10-04 08:48:56+00:00      8025.000000  \n",
              "2          0 2011-05-13 04:38:16+00:00      6701.000000  \n",
              "3          3 2021-03-02 06:55:10+00:00      1642.250000  \n",
              "4         42 2008-04-14 04:00:20+00:00       152.488372  "
            ],
            "text/html": [
              "\n",
              "  <div id=\"df-f994931d-90bf-432c-9178-a44aa9e7e17c\" class=\"colab-df-container\">\n",
              "    <div>\n",
              "<style scoped>\n",
              "    .dataframe tbody tr th:only-of-type {\n",
              "        vertical-align: middle;\n",
              "    }\n",
              "\n",
              "    .dataframe tbody tr th {\n",
              "        vertical-align: top;\n",
              "    }\n",
              "\n",
              "    .dataframe thead th {\n",
              "        text-align: right;\n",
              "    }\n",
              "</style>\n",
              "<table border=\"1\" class=\"dataframe\">\n",
              "  <thead>\n",
              "    <tr style=\"text-align: right;\">\n",
              "      <th></th>\n",
              "      <th>login</th>\n",
              "      <th>name</th>\n",
              "      <th>company</th>\n",
              "      <th>location</th>\n",
              "      <th>email</th>\n",
              "      <th>hireable</th>\n",
              "      <th>bio</th>\n",
              "      <th>public_repos</th>\n",
              "      <th>followers</th>\n",
              "      <th>following</th>\n",
              "      <th>created_at</th>\n",
              "      <th>leader_strength</th>\n",
              "    </tr>\n",
              "  </thead>\n",
              "  <tbody>\n",
              "    <tr>\n",
              "      <th>0</th>\n",
              "      <td>nicknochnack</td>\n",
              "      <td>Nicholas Renotte</td>\n",
              "      <td>NaN</td>\n",
              "      <td>Sydney, Australia</td>\n",
              "      <td>NaN</td>\n",
              "      <td>false</td>\n",
              "      <td>Data Science guy @IBM</td>\n",
              "      <td>193</td>\n",
              "      <td>11697</td>\n",
              "      <td>5</td>\n",
              "      <td>2013-11-15 15:06:35+00:00</td>\n",
              "      <td>1949.500000</td>\n",
              "    </tr>\n",
              "    <tr>\n",
              "      <th>1</th>\n",
              "      <td>brendangregg</td>\n",
              "      <td>Brendan Gregg</td>\n",
              "      <td>INTEL</td>\n",
              "      <td>Sydney, Australia</td>\n",
              "      <td>NaN</td>\n",
              "      <td>false</td>\n",
              "      <td>Cloud computing performance engineer.</td>\n",
              "      <td>42</td>\n",
              "      <td>8025</td>\n",
              "      <td>0</td>\n",
              "      <td>2011-10-04 08:48:56+00:00</td>\n",
              "      <td>8025.000000</td>\n",
              "    </tr>\n",
              "    <tr>\n",
              "      <th>2</th>\n",
              "      <td>cornflourblue</td>\n",
              "      <td>Jason Watmore</td>\n",
              "      <td>POINT BLANK DEVELOPMENT</td>\n",
              "      <td>Sydney Australia</td>\n",
              "      <td>NaN</td>\n",
              "      <td>false</td>\n",
              "      <td>Web Developer and Blogger, currently focusing ...</td>\n",
              "      <td>187</td>\n",
              "      <td>6701</td>\n",
              "      <td>0</td>\n",
              "      <td>2011-05-13 04:38:16+00:00</td>\n",
              "      <td>6701.000000</td>\n",
              "    </tr>\n",
              "    <tr>\n",
              "      <th>3</th>\n",
              "      <td>0vm</td>\n",
              "      <td>Ak</td>\n",
              "      <td>NaN</td>\n",
              "      <td>Sydney, Australia</td>\n",
              "      <td>NaN</td>\n",
              "      <td>true</td>\n",
              "      <td>erm hai</td>\n",
              "      <td>10</td>\n",
              "      <td>6569</td>\n",
              "      <td>3</td>\n",
              "      <td>2021-03-02 06:55:10+00:00</td>\n",
              "      <td>1642.250000</td>\n",
              "    </tr>\n",
              "    <tr>\n",
              "      <th>4</th>\n",
              "      <td>davecheney</td>\n",
              "      <td>Dave Cheney</td>\n",
              "      <td>GITHUB</td>\n",
              "      <td>Sydney, Australia</td>\n",
              "      <td>NaN</td>\n",
              "      <td>false</td>\n",
              "      <td>I service society by rocking.</td>\n",
              "      <td>163</td>\n",
              "      <td>6557</td>\n",
              "      <td>42</td>\n",
              "      <td>2008-04-14 04:00:20+00:00</td>\n",
              "      <td>152.488372</td>\n",
              "    </tr>\n",
              "  </tbody>\n",
              "</table>\n",
              "</div>\n",
              "    <div class=\"colab-df-buttons\">\n",
              "\n",
              "  <div class=\"colab-df-container\">\n",
              "    <button class=\"colab-df-convert\" onclick=\"convertToInteractive('df-f994931d-90bf-432c-9178-a44aa9e7e17c')\"\n",
              "            title=\"Convert this dataframe to an interactive table.\"\n",
              "            style=\"display:none;\">\n",
              "\n",
              "  <svg xmlns=\"http://www.w3.org/2000/svg\" height=\"24px\" viewBox=\"0 -960 960 960\">\n",
              "    <path d=\"M120-120v-720h720v720H120Zm60-500h600v-160H180v160Zm220 220h160v-160H400v160Zm0 220h160v-160H400v160ZM180-400h160v-160H180v160Zm440 0h160v-160H620v160ZM180-180h160v-160H180v160Zm440 0h160v-160H620v160Z\"/>\n",
              "  </svg>\n",
              "    </button>\n",
              "\n",
              "  <style>\n",
              "    .colab-df-container {\n",
              "      display:flex;\n",
              "      gap: 12px;\n",
              "    }\n",
              "\n",
              "    .colab-df-convert {\n",
              "      background-color: #E8F0FE;\n",
              "      border: none;\n",
              "      border-radius: 50%;\n",
              "      cursor: pointer;\n",
              "      display: none;\n",
              "      fill: #1967D2;\n",
              "      height: 32px;\n",
              "      padding: 0 0 0 0;\n",
              "      width: 32px;\n",
              "    }\n",
              "\n",
              "    .colab-df-convert:hover {\n",
              "      background-color: #E2EBFA;\n",
              "      box-shadow: 0px 1px 2px rgba(60, 64, 67, 0.3), 0px 1px 3px 1px rgba(60, 64, 67, 0.15);\n",
              "      fill: #174EA6;\n",
              "    }\n",
              "\n",
              "    .colab-df-buttons div {\n",
              "      margin-bottom: 4px;\n",
              "    }\n",
              "\n",
              "    [theme=dark] .colab-df-convert {\n",
              "      background-color: #3B4455;\n",
              "      fill: #D2E3FC;\n",
              "    }\n",
              "\n",
              "    [theme=dark] .colab-df-convert:hover {\n",
              "      background-color: #434B5C;\n",
              "      box-shadow: 0px 1px 3px 1px rgba(0, 0, 0, 0.15);\n",
              "      filter: drop-shadow(0px 1px 2px rgba(0, 0, 0, 0.3));\n",
              "      fill: #FFFFFF;\n",
              "    }\n",
              "  </style>\n",
              "\n",
              "    <script>\n",
              "      const buttonEl =\n",
              "        document.querySelector('#df-f994931d-90bf-432c-9178-a44aa9e7e17c button.colab-df-convert');\n",
              "      buttonEl.style.display =\n",
              "        google.colab.kernel.accessAllowed ? 'block' : 'none';\n",
              "\n",
              "      async function convertToInteractive(key) {\n",
              "        const element = document.querySelector('#df-f994931d-90bf-432c-9178-a44aa9e7e17c');\n",
              "        const dataTable =\n",
              "          await google.colab.kernel.invokeFunction('convertToInteractive',\n",
              "                                                    [key], {});\n",
              "        if (!dataTable) return;\n",
              "\n",
              "        const docLinkHtml = 'Like what you see? Visit the ' +\n",
              "          '<a target=\"_blank\" href=https://colab.research.google.com/notebooks/data_table.ipynb>data table notebook</a>'\n",
              "          + ' to learn more about interactive tables.';\n",
              "        element.innerHTML = '';\n",
              "        dataTable['output_type'] = 'display_data';\n",
              "        await google.colab.output.renderOutput(dataTable, element);\n",
              "        const docLink = document.createElement('div');\n",
              "        docLink.innerHTML = docLinkHtml;\n",
              "        element.appendChild(docLink);\n",
              "      }\n",
              "    </script>\n",
              "  </div>\n",
              "\n",
              "\n",
              "<div id=\"df-b7623a7d-c763-40a1-b827-4d0f3d4a1b7c\">\n",
              "  <button class=\"colab-df-quickchart\" onclick=\"quickchart('df-b7623a7d-c763-40a1-b827-4d0f3d4a1b7c')\"\n",
              "            title=\"Suggest charts\"\n",
              "            style=\"display:none;\">\n",
              "\n",
              "<svg xmlns=\"http://www.w3.org/2000/svg\" height=\"24px\"viewBox=\"0 0 24 24\"\n",
              "     width=\"24px\">\n",
              "    <g>\n",
              "        <path d=\"M19 3H5c-1.1 0-2 .9-2 2v14c0 1.1.9 2 2 2h14c1.1 0 2-.9 2-2V5c0-1.1-.9-2-2-2zM9 17H7v-7h2v7zm4 0h-2V7h2v10zm4 0h-2v-4h2v4z\"/>\n",
              "    </g>\n",
              "</svg>\n",
              "  </button>\n",
              "\n",
              "<style>\n",
              "  .colab-df-quickchart {\n",
              "      --bg-color: #E8F0FE;\n",
              "      --fill-color: #1967D2;\n",
              "      --hover-bg-color: #E2EBFA;\n",
              "      --hover-fill-color: #174EA6;\n",
              "      --disabled-fill-color: #AAA;\n",
              "      --disabled-bg-color: #DDD;\n",
              "  }\n",
              "\n",
              "  [theme=dark] .colab-df-quickchart {\n",
              "      --bg-color: #3B4455;\n",
              "      --fill-color: #D2E3FC;\n",
              "      --hover-bg-color: #434B5C;\n",
              "      --hover-fill-color: #FFFFFF;\n",
              "      --disabled-bg-color: #3B4455;\n",
              "      --disabled-fill-color: #666;\n",
              "  }\n",
              "\n",
              "  .colab-df-quickchart {\n",
              "    background-color: var(--bg-color);\n",
              "    border: none;\n",
              "    border-radius: 50%;\n",
              "    cursor: pointer;\n",
              "    display: none;\n",
              "    fill: var(--fill-color);\n",
              "    height: 32px;\n",
              "    padding: 0;\n",
              "    width: 32px;\n",
              "  }\n",
              "\n",
              "  .colab-df-quickchart:hover {\n",
              "    background-color: var(--hover-bg-color);\n",
              "    box-shadow: 0 1px 2px rgba(60, 64, 67, 0.3), 0 1px 3px 1px rgba(60, 64, 67, 0.15);\n",
              "    fill: var(--button-hover-fill-color);\n",
              "  }\n",
              "\n",
              "  .colab-df-quickchart-complete:disabled,\n",
              "  .colab-df-quickchart-complete:disabled:hover {\n",
              "    background-color: var(--disabled-bg-color);\n",
              "    fill: var(--disabled-fill-color);\n",
              "    box-shadow: none;\n",
              "  }\n",
              "\n",
              "  .colab-df-spinner {\n",
              "    border: 2px solid var(--fill-color);\n",
              "    border-color: transparent;\n",
              "    border-bottom-color: var(--fill-color);\n",
              "    animation:\n",
              "      spin 1s steps(1) infinite;\n",
              "  }\n",
              "\n",
              "  @keyframes spin {\n",
              "    0% {\n",
              "      border-color: transparent;\n",
              "      border-bottom-color: var(--fill-color);\n",
              "      border-left-color: var(--fill-color);\n",
              "    }\n",
              "    20% {\n",
              "      border-color: transparent;\n",
              "      border-left-color: var(--fill-color);\n",
              "      border-top-color: var(--fill-color);\n",
              "    }\n",
              "    30% {\n",
              "      border-color: transparent;\n",
              "      border-left-color: var(--fill-color);\n",
              "      border-top-color: var(--fill-color);\n",
              "      border-right-color: var(--fill-color);\n",
              "    }\n",
              "    40% {\n",
              "      border-color: transparent;\n",
              "      border-right-color: var(--fill-color);\n",
              "      border-top-color: var(--fill-color);\n",
              "    }\n",
              "    60% {\n",
              "      border-color: transparent;\n",
              "      border-right-color: var(--fill-color);\n",
              "    }\n",
              "    80% {\n",
              "      border-color: transparent;\n",
              "      border-right-color: var(--fill-color);\n",
              "      border-bottom-color: var(--fill-color);\n",
              "    }\n",
              "    90% {\n",
              "      border-color: transparent;\n",
              "      border-bottom-color: var(--fill-color);\n",
              "    }\n",
              "  }\n",
              "</style>\n",
              "\n",
              "  <script>\n",
              "    async function quickchart(key) {\n",
              "      const quickchartButtonEl =\n",
              "        document.querySelector('#' + key + ' button');\n",
              "      quickchartButtonEl.disabled = true;  // To prevent multiple clicks.\n",
              "      quickchartButtonEl.classList.add('colab-df-spinner');\n",
              "      try {\n",
              "        const charts = await google.colab.kernel.invokeFunction(\n",
              "            'suggestCharts', [key], {});\n",
              "      } catch (error) {\n",
              "        console.error('Error during call to suggestCharts:', error);\n",
              "      }\n",
              "      quickchartButtonEl.classList.remove('colab-df-spinner');\n",
              "      quickchartButtonEl.classList.add('colab-df-quickchart-complete');\n",
              "    }\n",
              "    (() => {\n",
              "      let quickchartButtonEl =\n",
              "        document.querySelector('#df-b7623a7d-c763-40a1-b827-4d0f3d4a1b7c button');\n",
              "      quickchartButtonEl.style.display =\n",
              "        google.colab.kernel.accessAllowed ? 'block' : 'none';\n",
              "    })();\n",
              "  </script>\n",
              "</div>\n",
              "\n",
              "    </div>\n",
              "  </div>\n"
            ],
            "application/vnd.google.colaboratory.intrinsic+json": {
              "type": "dataframe",
              "variable_name": "users",
              "summary": "{\n  \"name\": \"users\",\n  \"rows\": 371,\n  \"fields\": [\n    {\n      \"column\": \"login\",\n      \"properties\": {\n        \"dtype\": \"string\",\n        \"num_unique_values\": 371,\n        \"samples\": [\n          \"chrisosaurus\",\n          \"matthewpalmer\",\n          \"MaryamAustralia\"\n        ],\n        \"semantic_type\": \"\",\n        \"description\": \"\"\n      }\n    },\n    {\n      \"column\": \"name\",\n      \"properties\": {\n        \"dtype\": \"string\",\n        \"num_unique_values\": 365,\n        \"samples\": [\n          \"Luca Modenese\",\n          \"Matthew Palmer\",\n          \"Maryam\"\n        ],\n        \"semantic_type\": \"\",\n        \"description\": \"\"\n      }\n    },\n    {\n      \"column\": \"company\",\n      \"properties\": {\n        \"dtype\": \"category\",\n        \"num_unique_values\": 148,\n        \"samples\": [\n          \"STICKMAN CONSULTING\",\n          \"WIZ\",\n          \"/DEV/NULL\"\n        ],\n        \"semantic_type\": \"\",\n        \"description\": \"\"\n      }\n    },\n    {\n      \"column\": \"location\",\n      \"properties\": {\n        \"dtype\": \"category\",\n        \"num_unique_values\": 31,\n        \"samples\": [\n          \"Beijing | Shenzhen | Melbourne | Sydney\",\n          \"SF, Austin, Sydney, Kyiv\",\n          \"Sydney, San Francisco, Austin, and more!\"\n        ],\n        \"semantic_type\": \"\",\n        \"description\": \"\"\n      }\n    },\n    {\n      \"column\": \"email\",\n      \"properties\": {\n        \"dtype\": \"category\",\n        \"num_unique_values\": 184,\n        \"samples\": [\n          \"bokky.poobah@bokconsulting.com.au\",\n          \"rayx.cn@gmail.com\",\n          \"aaronjjacobs@gmail.com\"\n        ],\n        \"semantic_type\": \"\",\n        \"description\": \"\"\n      }\n    },\n    {\n      \"column\": \"hireable\",\n      \"properties\": {\n        \"dtype\": \"category\",\n        \"num_unique_values\": 2,\n        \"samples\": [\n          \"true\",\n          \"false\"\n        ],\n        \"semantic_type\": \"\",\n        \"description\": \"\"\n      }\n    },\n    {\n      \"column\": \"bio\",\n      \"properties\": {\n        \"dtype\": \"string\",\n        \"num_unique_values\": 247,\n        \"samples\": [\n          \"Senior Software Engineer | Agile Follower | Speaker | Google Developer Expert | Docker Captain\",\n          \"Software Developer and Open Source Enthusiast at @atlassian / ex-@adessoAG \"\n        ],\n        \"semantic_type\": \"\",\n        \"description\": \"\"\n      }\n    },\n    {\n      \"column\": \"public_repos\",\n      \"properties\": {\n        \"dtype\": \"number\",\n        \"std\": 524,\n        \"min\": 0,\n        \"max\": 9006,\n        \"num_unique_values\": 169,\n        \"samples\": [\n          158,\n          159\n        ],\n        \"semantic_type\": \"\",\n        \"description\": \"\"\n      }\n    },\n    {\n      \"column\": \"followers\",\n      \"properties\": {\n        \"dtype\": \"number\",\n        \"std\": 1011,\n        \"min\": 101,\n        \"max\": 11697,\n        \"num_unique_values\": 231,\n        \"samples\": [\n          113,\n          478\n        ],\n        \"semantic_type\": \"\",\n        \"description\": \"\"\n      }\n    },\n    {\n      \"column\": \"following\",\n      \"properties\": {\n        \"dtype\": \"number\",\n        \"std\": 499,\n        \"min\": 0,\n        \"max\": 7883,\n        \"num_unique_values\": 143,\n        \"samples\": [\n          254,\n          1087\n        ],\n        \"semantic_type\": \"\",\n        \"description\": \"\"\n      }\n    },\n    {\n      \"column\": \"created_at\",\n      \"properties\": {\n        \"dtype\": \"date\",\n        \"min\": \"2008-01-29 23:15:18+00:00\",\n        \"max\": \"2023-09-04 07:48:43+00:00\",\n        \"num_unique_values\": 371,\n        \"samples\": [\n          \"2009-04-19 21:24:59+00:00\",\n          \"2012-07-03 10:05:08+00:00\"\n        ],\n        \"semantic_type\": \"\",\n        \"description\": \"\"\n      }\n    },\n    {\n      \"column\": \"leader_strength\",\n      \"properties\": {\n        \"dtype\": \"number\",\n        \"std\": 581.9463082748027,\n        \"min\": 0.11321595720971696,\n        \"max\": 8025.0,\n        \"num_unique_values\": 360,\n        \"samples\": [\n          8.0,\n          5.298507462686567\n        ],\n        \"semantic_type\": \"\",\n        \"description\": \"\"\n      }\n    }\n  ]\n}"
            }
          },
          "metadata": {},
          "execution_count": 48
        }
      ]
    },
    {
      "cell_type": "code",
      "source": [
        "users.info()"
      ],
      "metadata": {
        "colab": {
          "base_uri": "https://localhost:8080/"
        },
        "id": "CYA9h6SzIhRm",
        "outputId": "a4363617-a628-4fa3-d56c-143e2bd4bdca"
      },
      "execution_count": 15,
      "outputs": [
        {
          "output_type": "stream",
          "name": "stdout",
          "text": [
            "<class 'pandas.core.frame.DataFrame'>\n",
            "RangeIndex: 371 entries, 0 to 370\n",
            "Data columns (total 11 columns):\n",
            " #   Column        Non-Null Count  Dtype              \n",
            "---  ------        --------------  -----              \n",
            " 0   login         371 non-null    object             \n",
            " 1   name          366 non-null    object             \n",
            " 2   company       210 non-null    object             \n",
            " 3   location      371 non-null    object             \n",
            " 4   email         184 non-null    object             \n",
            " 5   hireable      371 non-null    bool               \n",
            " 6   bio           249 non-null    object             \n",
            " 7   public_repos  371 non-null    int64              \n",
            " 8   followers     371 non-null    int64              \n",
            " 9   following     371 non-null    int64              \n",
            " 10  created_at    371 non-null    datetime64[ns, UTC]\n",
            "dtypes: bool(1), datetime64[ns, UTC](1), int64(3), object(6)\n",
            "memory usage: 29.5+ KB\n"
          ]
        }
      ]
    },
    {
      "cell_type": "code",
      "source": [
        "repos['has_projects'] = repos['has_projects'].replace({True: 'true', False: 'false'})\n",
        "repos['has_wiki'] = repos['has_wiki'].replace({True: 'true', False: 'false'})\n",
        "repos['created_at'] = pd.to_datetime(repos['created_at'])\n",
        "repos.head()"
      ],
      "metadata": {
        "colab": {
          "base_uri": "https://localhost:8080/",
          "height": 313
        },
        "id": "oyHV1S9_NNus",
        "outputId": "f3aeb3ed-88f0-44df-9dde-14b3d80c697d"
      },
      "execution_count": 34,
      "outputs": [
        {
          "output_type": "execute_result",
          "data": {
            "text/plain": [
              "          login                                    full_name  \\\n",
              "0  nicknochnack  nicknochnack/ActionDetectionforSignLanguage   \n",
              "1  nicknochnack   nicknochnack/AdvancedHandPoseWithMediaPipe   \n",
              "2  nicknochnack                  nicknochnack/ANPRwithPython   \n",
              "3  nicknochnack                   nicknochnack/AutoStreamlit   \n",
              "4  nicknochnack                        nicknochnack/beeagent   \n",
              "\n",
              "                 created_at  stargazers_count  watchers_count  \\\n",
              "0 2021-06-16 09:12:01+00:00               409             409   \n",
              "1 2021-04-25 00:13:57+00:00                37              37   \n",
              "2 2020-12-13 04:39:49+00:00               106             106   \n",
              "3 2022-10-25 21:25:41+00:00                72              72   \n",
              "4 2024-09-19 08:05:08+00:00                 8               8   \n",
              "\n",
              "           language has_projects has_wiki license_name  \n",
              "0  Jupyter Notebook         true     true          NaN  \n",
              "1  Jupyter Notebook         true     true          NaN  \n",
              "2  Jupyter Notebook         true     true          NaN  \n",
              "3  Jupyter Notebook         true     true          NaN  \n",
              "4        TypeScript         true     true          NaN  "
            ],
            "text/html": [
              "\n",
              "  <div id=\"df-f9fb1e0a-e356-4789-a947-402b2b00cd87\" class=\"colab-df-container\">\n",
              "    <div>\n",
              "<style scoped>\n",
              "    .dataframe tbody tr th:only-of-type {\n",
              "        vertical-align: middle;\n",
              "    }\n",
              "\n",
              "    .dataframe tbody tr th {\n",
              "        vertical-align: top;\n",
              "    }\n",
              "\n",
              "    .dataframe thead th {\n",
              "        text-align: right;\n",
              "    }\n",
              "</style>\n",
              "<table border=\"1\" class=\"dataframe\">\n",
              "  <thead>\n",
              "    <tr style=\"text-align: right;\">\n",
              "      <th></th>\n",
              "      <th>login</th>\n",
              "      <th>full_name</th>\n",
              "      <th>created_at</th>\n",
              "      <th>stargazers_count</th>\n",
              "      <th>watchers_count</th>\n",
              "      <th>language</th>\n",
              "      <th>has_projects</th>\n",
              "      <th>has_wiki</th>\n",
              "      <th>license_name</th>\n",
              "    </tr>\n",
              "  </thead>\n",
              "  <tbody>\n",
              "    <tr>\n",
              "      <th>0</th>\n",
              "      <td>nicknochnack</td>\n",
              "      <td>nicknochnack/ActionDetectionforSignLanguage</td>\n",
              "      <td>2021-06-16 09:12:01+00:00</td>\n",
              "      <td>409</td>\n",
              "      <td>409</td>\n",
              "      <td>Jupyter Notebook</td>\n",
              "      <td>true</td>\n",
              "      <td>true</td>\n",
              "      <td>NaN</td>\n",
              "    </tr>\n",
              "    <tr>\n",
              "      <th>1</th>\n",
              "      <td>nicknochnack</td>\n",
              "      <td>nicknochnack/AdvancedHandPoseWithMediaPipe</td>\n",
              "      <td>2021-04-25 00:13:57+00:00</td>\n",
              "      <td>37</td>\n",
              "      <td>37</td>\n",
              "      <td>Jupyter Notebook</td>\n",
              "      <td>true</td>\n",
              "      <td>true</td>\n",
              "      <td>NaN</td>\n",
              "    </tr>\n",
              "    <tr>\n",
              "      <th>2</th>\n",
              "      <td>nicknochnack</td>\n",
              "      <td>nicknochnack/ANPRwithPython</td>\n",
              "      <td>2020-12-13 04:39:49+00:00</td>\n",
              "      <td>106</td>\n",
              "      <td>106</td>\n",
              "      <td>Jupyter Notebook</td>\n",
              "      <td>true</td>\n",
              "      <td>true</td>\n",
              "      <td>NaN</td>\n",
              "    </tr>\n",
              "    <tr>\n",
              "      <th>3</th>\n",
              "      <td>nicknochnack</td>\n",
              "      <td>nicknochnack/AutoStreamlit</td>\n",
              "      <td>2022-10-25 21:25:41+00:00</td>\n",
              "      <td>72</td>\n",
              "      <td>72</td>\n",
              "      <td>Jupyter Notebook</td>\n",
              "      <td>true</td>\n",
              "      <td>true</td>\n",
              "      <td>NaN</td>\n",
              "    </tr>\n",
              "    <tr>\n",
              "      <th>4</th>\n",
              "      <td>nicknochnack</td>\n",
              "      <td>nicknochnack/beeagent</td>\n",
              "      <td>2024-09-19 08:05:08+00:00</td>\n",
              "      <td>8</td>\n",
              "      <td>8</td>\n",
              "      <td>TypeScript</td>\n",
              "      <td>true</td>\n",
              "      <td>true</td>\n",
              "      <td>NaN</td>\n",
              "    </tr>\n",
              "  </tbody>\n",
              "</table>\n",
              "</div>\n",
              "    <div class=\"colab-df-buttons\">\n",
              "\n",
              "  <div class=\"colab-df-container\">\n",
              "    <button class=\"colab-df-convert\" onclick=\"convertToInteractive('df-f9fb1e0a-e356-4789-a947-402b2b00cd87')\"\n",
              "            title=\"Convert this dataframe to an interactive table.\"\n",
              "            style=\"display:none;\">\n",
              "\n",
              "  <svg xmlns=\"http://www.w3.org/2000/svg\" height=\"24px\" viewBox=\"0 -960 960 960\">\n",
              "    <path d=\"M120-120v-720h720v720H120Zm60-500h600v-160H180v160Zm220 220h160v-160H400v160Zm0 220h160v-160H400v160ZM180-400h160v-160H180v160Zm440 0h160v-160H620v160ZM180-180h160v-160H180v160Zm440 0h160v-160H620v160Z\"/>\n",
              "  </svg>\n",
              "    </button>\n",
              "\n",
              "  <style>\n",
              "    .colab-df-container {\n",
              "      display:flex;\n",
              "      gap: 12px;\n",
              "    }\n",
              "\n",
              "    .colab-df-convert {\n",
              "      background-color: #E8F0FE;\n",
              "      border: none;\n",
              "      border-radius: 50%;\n",
              "      cursor: pointer;\n",
              "      display: none;\n",
              "      fill: #1967D2;\n",
              "      height: 32px;\n",
              "      padding: 0 0 0 0;\n",
              "      width: 32px;\n",
              "    }\n",
              "\n",
              "    .colab-df-convert:hover {\n",
              "      background-color: #E2EBFA;\n",
              "      box-shadow: 0px 1px 2px rgba(60, 64, 67, 0.3), 0px 1px 3px 1px rgba(60, 64, 67, 0.15);\n",
              "      fill: #174EA6;\n",
              "    }\n",
              "\n",
              "    .colab-df-buttons div {\n",
              "      margin-bottom: 4px;\n",
              "    }\n",
              "\n",
              "    [theme=dark] .colab-df-convert {\n",
              "      background-color: #3B4455;\n",
              "      fill: #D2E3FC;\n",
              "    }\n",
              "\n",
              "    [theme=dark] .colab-df-convert:hover {\n",
              "      background-color: #434B5C;\n",
              "      box-shadow: 0px 1px 3px 1px rgba(0, 0, 0, 0.15);\n",
              "      filter: drop-shadow(0px 1px 2px rgba(0, 0, 0, 0.3));\n",
              "      fill: #FFFFFF;\n",
              "    }\n",
              "  </style>\n",
              "\n",
              "    <script>\n",
              "      const buttonEl =\n",
              "        document.querySelector('#df-f9fb1e0a-e356-4789-a947-402b2b00cd87 button.colab-df-convert');\n",
              "      buttonEl.style.display =\n",
              "        google.colab.kernel.accessAllowed ? 'block' : 'none';\n",
              "\n",
              "      async function convertToInteractive(key) {\n",
              "        const element = document.querySelector('#df-f9fb1e0a-e356-4789-a947-402b2b00cd87');\n",
              "        const dataTable =\n",
              "          await google.colab.kernel.invokeFunction('convertToInteractive',\n",
              "                                                    [key], {});\n",
              "        if (!dataTable) return;\n",
              "\n",
              "        const docLinkHtml = 'Like what you see? Visit the ' +\n",
              "          '<a target=\"_blank\" href=https://colab.research.google.com/notebooks/data_table.ipynb>data table notebook</a>'\n",
              "          + ' to learn more about interactive tables.';\n",
              "        element.innerHTML = '';\n",
              "        dataTable['output_type'] = 'display_data';\n",
              "        await google.colab.output.renderOutput(dataTable, element);\n",
              "        const docLink = document.createElement('div');\n",
              "        docLink.innerHTML = docLinkHtml;\n",
              "        element.appendChild(docLink);\n",
              "      }\n",
              "    </script>\n",
              "  </div>\n",
              "\n",
              "\n",
              "<div id=\"df-1038f9b6-9a6d-4031-8b7a-ad750c00272c\">\n",
              "  <button class=\"colab-df-quickchart\" onclick=\"quickchart('df-1038f9b6-9a6d-4031-8b7a-ad750c00272c')\"\n",
              "            title=\"Suggest charts\"\n",
              "            style=\"display:none;\">\n",
              "\n",
              "<svg xmlns=\"http://www.w3.org/2000/svg\" height=\"24px\"viewBox=\"0 0 24 24\"\n",
              "     width=\"24px\">\n",
              "    <g>\n",
              "        <path d=\"M19 3H5c-1.1 0-2 .9-2 2v14c0 1.1.9 2 2 2h14c1.1 0 2-.9 2-2V5c0-1.1-.9-2-2-2zM9 17H7v-7h2v7zm4 0h-2V7h2v10zm4 0h-2v-4h2v4z\"/>\n",
              "    </g>\n",
              "</svg>\n",
              "  </button>\n",
              "\n",
              "<style>\n",
              "  .colab-df-quickchart {\n",
              "      --bg-color: #E8F0FE;\n",
              "      --fill-color: #1967D2;\n",
              "      --hover-bg-color: #E2EBFA;\n",
              "      --hover-fill-color: #174EA6;\n",
              "      --disabled-fill-color: #AAA;\n",
              "      --disabled-bg-color: #DDD;\n",
              "  }\n",
              "\n",
              "  [theme=dark] .colab-df-quickchart {\n",
              "      --bg-color: #3B4455;\n",
              "      --fill-color: #D2E3FC;\n",
              "      --hover-bg-color: #434B5C;\n",
              "      --hover-fill-color: #FFFFFF;\n",
              "      --disabled-bg-color: #3B4455;\n",
              "      --disabled-fill-color: #666;\n",
              "  }\n",
              "\n",
              "  .colab-df-quickchart {\n",
              "    background-color: var(--bg-color);\n",
              "    border: none;\n",
              "    border-radius: 50%;\n",
              "    cursor: pointer;\n",
              "    display: none;\n",
              "    fill: var(--fill-color);\n",
              "    height: 32px;\n",
              "    padding: 0;\n",
              "    width: 32px;\n",
              "  }\n",
              "\n",
              "  .colab-df-quickchart:hover {\n",
              "    background-color: var(--hover-bg-color);\n",
              "    box-shadow: 0 1px 2px rgba(60, 64, 67, 0.3), 0 1px 3px 1px rgba(60, 64, 67, 0.15);\n",
              "    fill: var(--button-hover-fill-color);\n",
              "  }\n",
              "\n",
              "  .colab-df-quickchart-complete:disabled,\n",
              "  .colab-df-quickchart-complete:disabled:hover {\n",
              "    background-color: var(--disabled-bg-color);\n",
              "    fill: var(--disabled-fill-color);\n",
              "    box-shadow: none;\n",
              "  }\n",
              "\n",
              "  .colab-df-spinner {\n",
              "    border: 2px solid var(--fill-color);\n",
              "    border-color: transparent;\n",
              "    border-bottom-color: var(--fill-color);\n",
              "    animation:\n",
              "      spin 1s steps(1) infinite;\n",
              "  }\n",
              "\n",
              "  @keyframes spin {\n",
              "    0% {\n",
              "      border-color: transparent;\n",
              "      border-bottom-color: var(--fill-color);\n",
              "      border-left-color: var(--fill-color);\n",
              "    }\n",
              "    20% {\n",
              "      border-color: transparent;\n",
              "      border-left-color: var(--fill-color);\n",
              "      border-top-color: var(--fill-color);\n",
              "    }\n",
              "    30% {\n",
              "      border-color: transparent;\n",
              "      border-left-color: var(--fill-color);\n",
              "      border-top-color: var(--fill-color);\n",
              "      border-right-color: var(--fill-color);\n",
              "    }\n",
              "    40% {\n",
              "      border-color: transparent;\n",
              "      border-right-color: var(--fill-color);\n",
              "      border-top-color: var(--fill-color);\n",
              "    }\n",
              "    60% {\n",
              "      border-color: transparent;\n",
              "      border-right-color: var(--fill-color);\n",
              "    }\n",
              "    80% {\n",
              "      border-color: transparent;\n",
              "      border-right-color: var(--fill-color);\n",
              "      border-bottom-color: var(--fill-color);\n",
              "    }\n",
              "    90% {\n",
              "      border-color: transparent;\n",
              "      border-bottom-color: var(--fill-color);\n",
              "    }\n",
              "  }\n",
              "</style>\n",
              "\n",
              "  <script>\n",
              "    async function quickchart(key) {\n",
              "      const quickchartButtonEl =\n",
              "        document.querySelector('#' + key + ' button');\n",
              "      quickchartButtonEl.disabled = true;  // To prevent multiple clicks.\n",
              "      quickchartButtonEl.classList.add('colab-df-spinner');\n",
              "      try {\n",
              "        const charts = await google.colab.kernel.invokeFunction(\n",
              "            'suggestCharts', [key], {});\n",
              "      } catch (error) {\n",
              "        console.error('Error during call to suggestCharts:', error);\n",
              "      }\n",
              "      quickchartButtonEl.classList.remove('colab-df-spinner');\n",
              "      quickchartButtonEl.classList.add('colab-df-quickchart-complete');\n",
              "    }\n",
              "    (() => {\n",
              "      let quickchartButtonEl =\n",
              "        document.querySelector('#df-1038f9b6-9a6d-4031-8b7a-ad750c00272c button');\n",
              "      quickchartButtonEl.style.display =\n",
              "        google.colab.kernel.accessAllowed ? 'block' : 'none';\n",
              "    })();\n",
              "  </script>\n",
              "</div>\n",
              "\n",
              "    </div>\n",
              "  </div>\n"
            ],
            "application/vnd.google.colaboratory.intrinsic+json": {
              "type": "dataframe",
              "variable_name": "repos",
              "summary": "{\n  \"name\": \"repos\",\n  \"rows\": 46740,\n  \"fields\": [\n    {\n      \"column\": \"login\",\n      \"properties\": {\n        \"dtype\": \"category\",\n        \"num_unique_values\": 370,\n        \"samples\": [\n          \"chrisosaurus\",\n          \"matthewpalmer\",\n          \"MaryamAustralia\"\n        ],\n        \"semantic_type\": \"\",\n        \"description\": \"\"\n      }\n    },\n    {\n      \"column\": \"full_name\",\n      \"properties\": {\n        \"dtype\": \"string\",\n        \"num_unique_values\": 46740,\n        \"samples\": [\n          \"davidbanham/monty\",\n          \"ibigbug/mixin-bot\",\n          \"bokkypoobah/AlfalfaSeeker\"\n        ],\n        \"semantic_type\": \"\",\n        \"description\": \"\"\n      }\n    },\n    {\n      \"column\": \"created_at\",\n      \"properties\": {\n        \"dtype\": \"date\",\n        \"min\": \"2008-05-15 05:17:55+00:00\",\n        \"max\": \"2024-10-30 10:23:17+00:00\",\n        \"num_unique_values\": 46733,\n        \"samples\": [\n          \"2019-12-10 01:53:58+00:00\",\n          \"2013-01-10 14:00:38+00:00\",\n          \"2022-05-06 18:16:40+00:00\"\n        ],\n        \"semantic_type\": \"\",\n        \"description\": \"\"\n      }\n    },\n    {\n      \"column\": \"stargazers_count\",\n      \"properties\": {\n        \"dtype\": \"number\",\n        \"std\": 299,\n        \"min\": 0,\n        \"max\": 27614,\n        \"num_unique_values\": 560,\n        \"samples\": [\n          119,\n          1024,\n          1556\n        ],\n        \"semantic_type\": \"\",\n        \"description\": \"\"\n      }\n    },\n    {\n      \"column\": \"watchers_count\",\n      \"properties\": {\n        \"dtype\": \"number\",\n        \"std\": 299,\n        \"min\": 0,\n        \"max\": 27614,\n        \"num_unique_values\": 560,\n        \"samples\": [\n          119,\n          1024,\n          1556\n        ],\n        \"semantic_type\": \"\",\n        \"description\": \"\"\n      }\n    },\n    {\n      \"column\": \"language\",\n      \"properties\": {\n        \"dtype\": \"category\",\n        \"num_unique_values\": 211,\n        \"samples\": [\n          \"TeX\",\n          \"KiCad\",\n          \"Jinja\"\n        ],\n        \"semantic_type\": \"\",\n        \"description\": \"\"\n      }\n    },\n    {\n      \"column\": \"has_projects\",\n      \"properties\": {\n        \"dtype\": \"category\",\n        \"num_unique_values\": 2,\n        \"samples\": [\n          \"false\",\n          \"true\"\n        ],\n        \"semantic_type\": \"\",\n        \"description\": \"\"\n      }\n    },\n    {\n      \"column\": \"has_wiki\",\n      \"properties\": {\n        \"dtype\": \"category\",\n        \"num_unique_values\": 2,\n        \"samples\": [\n          \"false\",\n          \"true\"\n        ],\n        \"semantic_type\": \"\",\n        \"description\": \"\"\n      }\n    },\n    {\n      \"column\": \"license_name\",\n      \"properties\": {\n        \"dtype\": \"category\",\n        \"num_unique_values\": 31,\n        \"samples\": [\n          \"epl-2.0\",\n          \"isc\"\n        ],\n        \"semantic_type\": \"\",\n        \"description\": \"\"\n      }\n    }\n  ]\n}"
            }
          },
          "metadata": {},
          "execution_count": 34
        }
      ]
    },
    {
      "cell_type": "code",
      "source": [
        "repos.info()"
      ],
      "metadata": {
        "colab": {
          "base_uri": "https://localhost:8080/"
        },
        "id": "_WOfzs_uNSpd",
        "outputId": "d466da1d-921a-4f85-fb27-0f9705ca56aa"
      },
      "execution_count": 35,
      "outputs": [
        {
          "output_type": "stream",
          "name": "stdout",
          "text": [
            "<class 'pandas.core.frame.DataFrame'>\n",
            "RangeIndex: 46740 entries, 0 to 46739\n",
            "Data columns (total 9 columns):\n",
            " #   Column            Non-Null Count  Dtype              \n",
            "---  ------            --------------  -----              \n",
            " 0   login             46740 non-null  object             \n",
            " 1   full_name         46740 non-null  object             \n",
            " 2   created_at        46740 non-null  datetime64[ns, UTC]\n",
            " 3   stargazers_count  46740 non-null  int64              \n",
            " 4   watchers_count    46740 non-null  int64              \n",
            " 5   language          30590 non-null  object             \n",
            " 6   has_projects      46740 non-null  object             \n",
            " 7   has_wiki          46740 non-null  object             \n",
            " 8   license_name      26984 non-null  object             \n",
            "dtypes: datetime64[ns, UTC](1), int64(2), object(6)\n",
            "memory usage: 3.2+ MB\n"
          ]
        }
      ]
    },
    {
      "cell_type": "markdown",
      "source": [
        "1. Who are the top 5 users in Sydney with the highest number of followers?"
      ],
      "metadata": {
        "id": "YAuzNG99IoOR"
      }
    },
    {
      "cell_type": "code",
      "source": [
        "','.join(users.sort_values(by='followers', ascending=False).loc[0:4, 'login'].to_list())"
      ],
      "metadata": {
        "colab": {
          "base_uri": "https://localhost:8080/",
          "height": 36
        },
        "id": "s_-F-sZxCVQ4",
        "outputId": "788871de-2f41-4aab-abd7-5b2363aeb412"
      },
      "execution_count": 33,
      "outputs": [
        {
          "output_type": "execute_result",
          "data": {
            "text/plain": [
              "'nicknochnack,brendangregg,cornflourblue,0vm,davecheney'"
            ],
            "application/vnd.google.colaboratory.intrinsic+json": {
              "type": "string"
            }
          },
          "metadata": {},
          "execution_count": 33
        }
      ]
    },
    {
      "cell_type": "markdown",
      "source": [
        "2. Who are the 5 earliest registered GitHub users in Sydney?\n"
      ],
      "metadata": {
        "id": "IsycULXNIvmm"
      }
    },
    {
      "cell_type": "code",
      "source": [
        "','.join(users.sort_values(by='created_at').iloc[:5, 0].to_list())"
      ],
      "metadata": {
        "colab": {
          "base_uri": "https://localhost:8080/",
          "height": 36
        },
        "id": "6bO6utMD5UBN",
        "outputId": "8b5b3722-08b3-4366-8cf1-6779fb0eda4d"
      },
      "execution_count": 17,
      "outputs": [
        {
          "output_type": "execute_result",
          "data": {
            "text/plain": [
              "'dylanegan,cjheath,freshtonic,dhowden,mikel'"
            ],
            "application/vnd.google.colaboratory.intrinsic+json": {
              "type": "string"
            }
          },
          "metadata": {},
          "execution_count": 17
        }
      ]
    },
    {
      "cell_type": "markdown",
      "source": [
        "3. What are the 3 most popular license among these users?\n"
      ],
      "metadata": {
        "id": "oOnuV0HqJdSS"
      }
    },
    {
      "cell_type": "code",
      "source": [
        "','.join(repos['license_name'].value_counts(dropna=True).index[:3].to_list())"
      ],
      "metadata": {
        "colab": {
          "base_uri": "https://localhost:8080/",
          "height": 36
        },
        "id": "mEPh94HLJcFi",
        "outputId": "a11c172a-81b0-4601-9e61-ca06d35b3077"
      },
      "execution_count": 18,
      "outputs": [
        {
          "output_type": "execute_result",
          "data": {
            "text/plain": [
              "'mit,other,apache-2.0'"
            ],
            "application/vnd.google.colaboratory.intrinsic+json": {
              "type": "string"
            }
          },
          "metadata": {},
          "execution_count": 18
        }
      ]
    },
    {
      "cell_type": "markdown",
      "source": [
        "4. Which company do the majority of these developers work at?"
      ],
      "metadata": {
        "id": "kvEtDXaZJs4_"
      }
    },
    {
      "cell_type": "code",
      "source": [
        "users['company'].value_counts().index[0]"
      ],
      "metadata": {
        "colab": {
          "base_uri": "https://localhost:8080/",
          "height": 36
        },
        "id": "EqcNLnSx8AHq",
        "outputId": "2a0e701f-308b-4c92-985d-85c87c097264"
      },
      "execution_count": 19,
      "outputs": [
        {
          "output_type": "execute_result",
          "data": {
            "text/plain": [
              "'ATLASSIAN'"
            ],
            "application/vnd.google.colaboratory.intrinsic+json": {
              "type": "string"
            }
          },
          "metadata": {},
          "execution_count": 19
        }
      ]
    },
    {
      "cell_type": "markdown",
      "source": [
        "5. Which programming language is most popular among these users?"
      ],
      "metadata": {
        "id": "qBh41_xfJ-nx"
      }
    },
    {
      "cell_type": "code",
      "source": [
        "repos['language'].value_counts().index[0]"
      ],
      "metadata": {
        "colab": {
          "base_uri": "https://localhost:8080/",
          "height": 36
        },
        "id": "w4S9RuyaJ9wm",
        "outputId": "b1204a7d-f2d2-45aa-f808-ac5158803c10"
      },
      "execution_count": 20,
      "outputs": [
        {
          "output_type": "execute_result",
          "data": {
            "text/plain": [
              "'JavaScript'"
            ],
            "application/vnd.google.colaboratory.intrinsic+json": {
              "type": "string"
            }
          },
          "metadata": {},
          "execution_count": 20
        }
      ]
    },
    {
      "cell_type": "markdown",
      "source": [
        "6. Which programming language is the second most popular among users who joined after 2020?"
      ],
      "metadata": {
        "id": "kAWoAzTMKLxT"
      }
    },
    {
      "cell_type": "code",
      "source": [
        "users_post_2020 = users.query('created_at > \"2020-01-01 00:00:00+00:00\"')\n",
        "repos_2020 = repos[repos['login'].isin(users_post_2020['login'].tolist())]\n",
        "repos_2020['language'].value_counts().index[1]\n",
        ""
      ],
      "metadata": {
        "colab": {
          "base_uri": "https://localhost:8080/",
          "height": 36
        },
        "id": "G-QteQG6KM4w",
        "outputId": "99904aa2-a80d-48e0-a96a-6e96e8375274"
      },
      "execution_count": 21,
      "outputs": [
        {
          "output_type": "execute_result",
          "data": {
            "text/plain": [
              "'TypeScript'"
            ],
            "application/vnd.google.colaboratory.intrinsic+json": {
              "type": "string"
            }
          },
          "metadata": {},
          "execution_count": 21
        }
      ]
    },
    {
      "cell_type": "markdown",
      "source": [
        "7. Which language has the highest average number of stars per repository?"
      ],
      "metadata": {
        "id": "6xKJUblIKb6J"
      }
    },
    {
      "cell_type": "code",
      "source": [
        "repos.groupby('language')['stargazers_count'].mean().idxmax()"
      ],
      "metadata": {
        "colab": {
          "base_uri": "https://localhost:8080/",
          "height": 36
        },
        "id": "h-5j-UJUKc2f",
        "outputId": "c902dc20-d99c-4bf6-9124-4dbc45539246"
      },
      "execution_count": 22,
      "outputs": [
        {
          "output_type": "execute_result",
          "data": {
            "text/plain": [
              "'Mermaid'"
            ],
            "application/vnd.google.colaboratory.intrinsic+json": {
              "type": "string"
            }
          },
          "metadata": {},
          "execution_count": 22
        }
      ]
    },
    {
      "cell_type": "markdown",
      "source": [
        "8. Let's define leader_strength as followers / (1 + following). Who are the top 5 in terms of leader_strength? List their login in order, comma-separated."
      ],
      "metadata": {
        "id": "TPUd7eLMKoY-"
      }
    },
    {
      "cell_type": "code",
      "source": [
        "users['leader_strength'] = users['followers'] / (1 + users['following'])\n",
        "','.join(users.sort_values(by='leader_strength', ascending=False).iloc[:5, 0].to_list())"
      ],
      "metadata": {
        "colab": {
          "base_uri": "https://localhost:8080/",
          "height": 36
        },
        "id": "mnV5AJRVKpYs",
        "outputId": "a0612724-819f-41a5-ef4b-4baf9f3352ba"
      },
      "execution_count": 23,
      "outputs": [
        {
          "output_type": "execute_result",
          "data": {
            "text/plain": [
              "'brendangregg,cornflourblue,Canva,nicknochnack,0vm'"
            ],
            "application/vnd.google.colaboratory.intrinsic+json": {
              "type": "string"
            }
          },
          "metadata": {},
          "execution_count": 23
        }
      ]
    },
    {
      "cell_type": "markdown",
      "source": [
        "9. What is the correlation between the number of followers and the number of public repositories among users in Sydney?"
      ],
      "metadata": {
        "id": "rgnO1iZPK00e"
      }
    },
    {
      "cell_type": "code",
      "source": [
        "f\"{users['followers'].corr(users['public_repos']):.3f}\""
      ],
      "metadata": {
        "colab": {
          "base_uri": "https://localhost:8080/",
          "height": 36
        },
        "id": "1Kprme11K11M",
        "outputId": "c0d59fcd-abf2-4ec7-cacd-03af11fd451c"
      },
      "execution_count": 24,
      "outputs": [
        {
          "output_type": "execute_result",
          "data": {
            "text/plain": [
              "'0.035'"
            ],
            "application/vnd.google.colaboratory.intrinsic+json": {
              "type": "string"
            }
          },
          "metadata": {},
          "execution_count": 24
        }
      ]
    },
    {
      "cell_type": "markdown",
      "source": [
        "10. Does creating more repos help users get more followers? Using regression, estimate how many additional followers a user gets per additional public repository."
      ],
      "metadata": {
        "id": "9GCab_BELC7e"
      }
    },
    {
      "cell_type": "code",
      "source": [
        "from scipy.stats import linregress\n",
        "f\"{linregress(users['public_repos'], users['followers']).slope:.3f}\""
      ],
      "metadata": {
        "colab": {
          "base_uri": "https://localhost:8080/",
          "height": 36
        },
        "id": "N49qPjvNLD7K",
        "outputId": "e818a277-955b-4e84-d1c4-2b068b8b2946"
      },
      "execution_count": 25,
      "outputs": [
        {
          "output_type": "execute_result",
          "data": {
            "text/plain": [
              "'0.068'"
            ],
            "application/vnd.google.colaboratory.intrinsic+json": {
              "type": "string"
            }
          },
          "metadata": {},
          "execution_count": 25
        }
      ]
    },
    {
      "cell_type": "code",
      "source": [
        "import statsmodels.api as sm\n",
        "\n",
        "# Prepare the data\n",
        "X = users['public_repos']  # Independent variable: number of public repositories\n",
        "y = users['followers']     # Dependent variable: number of followers\n",
        "\n",
        "# Add a constant to the independent variable (for the intercept)\n",
        "X = sm.add_constant(X)\n",
        "\n",
        "# Perform the regression\n",
        "model = sm.OLS(y, X).fit()\n",
        "\n",
        "# Print the summary of the regression\n",
        "print(model.summary())\n",
        "\n",
        "# Get the coefficient for 'public_repos'\n",
        "repo_coefficient = model.params['public_repos']\n",
        "print(f\"Estimated additional followers per additional public repository: {repo_coefficient:.3f}\")"
      ],
      "metadata": {
        "colab": {
          "base_uri": "https://localhost:8080/"
        },
        "id": "rUuTiGBqLYd3",
        "outputId": "ee1cb254-ce94-4d93-8f8d-31ab9e7e9709"
      },
      "execution_count": 26,
      "outputs": [
        {
          "output_type": "stream",
          "name": "stdout",
          "text": [
            "                            OLS Regression Results                            \n",
            "==============================================================================\n",
            "Dep. Variable:              followers   R-squared:                       0.001\n",
            "Model:                            OLS   Adj. R-squared:                 -0.001\n",
            "Method:                 Least Squares   F-statistic:                    0.4530\n",
            "Date:                Wed, 30 Oct 2024   Prob (F-statistic):              0.501\n",
            "Time:                        16:06:32   Log-Likelihood:                -3092.8\n",
            "No. Observations:                 371   AIC:                             6190.\n",
            "Df Residuals:                     369   BIC:                             6197.\n",
            "Df Model:                           1                                         \n",
            "Covariance Type:            nonrobust                                         \n",
            "================================================================================\n",
            "                   coef    std err          t      P>|t|      [0.025      0.975]\n",
            "--------------------------------------------------------------------------------\n",
            "const          436.8664     54.068      8.080      0.000     330.546     543.187\n",
            "public_repos     0.0676      0.100      0.673      0.501      -0.130       0.265\n",
            "==============================================================================\n",
            "Omnibus:                      517.327   Durbin-Watson:                   0.061\n",
            "Prob(Omnibus):                  0.000   Jarque-Bera (JB):            57684.702\n",
            "Skew:                           7.059   Prob(JB):                         0.00\n",
            "Kurtosis:                      62.433   Cond. No.                         554.\n",
            "==============================================================================\n",
            "\n",
            "Notes:\n",
            "[1] Standard Errors assume that the covariance matrix of the errors is correctly specified.\n",
            "Estimated additional followers per additional public repository: 0.068\n"
          ]
        }
      ]
    },
    {
      "cell_type": "markdown",
      "source": [
        "11. Do people typically enable projects and wikis together? What is the correlation between a repo having projects enabled and having wiki enabled?"
      ],
      "metadata": {
        "id": "ZSjd_z8xLeJg"
      }
    },
    {
      "cell_type": "code",
      "source": [
        "has_projects = repos['has_projects'].astype(bool)\n",
        "has_wiki = repos['has_wiki'].astype(bool)\n",
        "\n",
        "f\"{has_projects.corr(has_wiki):.3f}\""
      ],
      "metadata": {
        "colab": {
          "base_uri": "https://localhost:8080/",
          "height": 70
        },
        "id": "5RxZlBrmLds8",
        "outputId": "8a5c9a80-89d5-496e-d50a-87436a203ab2"
      },
      "execution_count": 49,
      "outputs": [
        {
          "output_type": "stream",
          "name": "stderr",
          "text": [
            "/usr/local/lib/python3.10/dist-packages/numpy/lib/function_base.py:2897: RuntimeWarning: invalid value encountered in divide\n",
            "  c /= stddev[:, None]\n"
          ]
        },
        {
          "output_type": "execute_result",
          "data": {
            "text/plain": [
              "'nan'"
            ],
            "application/vnd.google.colaboratory.intrinsic+json": {
              "type": "string"
            }
          },
          "metadata": {},
          "execution_count": 49
        }
      ]
    },
    {
      "cell_type": "markdown",
      "source": [
        "12. Do hireable users follow more people than those who are not hireable?"
      ],
      "metadata": {
        "id": "x7Vx1n2JL4kZ"
      }
    },
    {
      "cell_type": "markdown",
      "source": [],
      "metadata": {
        "id": "zK7DpWpxL4Qn"
      }
    },
    {
      "cell_type": "code",
      "source": [
        "hireable_following = users[users['hireable'] == True]['following'].mean()\n",
        "non_hireable_following = users[users['hireable'] != True]['following'].mean()\n",
        "f\"{hireable_following - non_hireable_following:.3f}\""
      ],
      "metadata": {
        "colab": {
          "base_uri": "https://localhost:8080/",
          "height": 36
        },
        "id": "_G_ixwLcLzak",
        "outputId": "7198b7ac-7e29-4848-9720-6fb30ad3bcd7"
      },
      "execution_count": 50,
      "outputs": [
        {
          "output_type": "execute_result",
          "data": {
            "text/plain": [
              "'nan'"
            ],
            "application/vnd.google.colaboratory.intrinsic+json": {
              "type": "string"
            }
          },
          "metadata": {},
          "execution_count": 50
        }
      ]
    },
    {
      "cell_type": "markdown",
      "source": [
        "13. Some developers write long bios. Does that help them get more followers? What's the impact of the length of their bio (in Unicode words, split by whitespace) with followers?"
      ],
      "metadata": {
        "id": "OKUqisAKMWHd"
      }
    },
    {
      "cell_type": "code",
      "source": [
        "users_with_bio = users.loc[users['bio'].notna(), :].copy().reset_index(drop=True, inplace=False)\n",
        "users_with_bio['bio_length'] = users_with_bio['bio'].str.strip().str.split().str.len()\n",
        "f\"{linregress(users_with_bio['bio_length'], users_with_bio['followers']).slope:.3f}\""
      ],
      "metadata": {
        "colab": {
          "base_uri": "https://localhost:8080/",
          "height": 36
        },
        "id": "0T1sf7vxMVt3",
        "outputId": "874c0c49-c9ef-445f-c848-9e8a6201e854"
      },
      "execution_count": 29,
      "outputs": [
        {
          "output_type": "execute_result",
          "data": {
            "text/plain": [
              "'-10.884'"
            ],
            "application/vnd.google.colaboratory.intrinsic+json": {
              "type": "string"
            }
          },
          "metadata": {},
          "execution_count": 29
        }
      ]
    },
    {
      "cell_type": "markdown",
      "source": [
        "14. Who created the most repositories on weekends (UTC)?"
      ],
      "metadata": {
        "id": "zdSIKj-yMd3C"
      }
    },
    {
      "cell_type": "code",
      "source": [
        "','.join(repos[repos['created_at'].dt.weekday >= 5].groupby('login').size().sort_values(ascending=False)[:5].index.to_list())\n",
        ""
      ],
      "metadata": {
        "colab": {
          "base_uri": "https://localhost:8080/",
          "height": 36
        },
        "id": "wPi7rS-KMcRG",
        "outputId": "b3007660-db64-4587-e2db-ac632ffb9058"
      },
      "execution_count": 36,
      "outputs": [
        {
          "output_type": "execute_result",
          "data": {
            "text/plain": [
              "'johndpope,mvandermeulen,timgates42,mikeyhodl,pinkforest'"
            ],
            "application/vnd.google.colaboratory.intrinsic+json": {
              "type": "string"
            }
          },
          "metadata": {},
          "execution_count": 36
        }
      ]
    },
    {
      "cell_type": "markdown",
      "source": [
        "15. Do people who are hireable share their email addresses more often?"
      ],
      "metadata": {
        "id": "_O19S8uLNdXe"
      }
    },
    {
      "cell_type": "code",
      "source": [
        "hireable_true = users[users['hireable'] == True]\n",
        "fraction_hireable_true = hireable_true['email'].notna().mean()\n",
        "\n",
        "hireable_other = users[users['hireable'] != True]\n",
        "fraction_hireable_other = hireable_other['email'].notna().mean()\n",
        "\n",
        "f\"{(fraction_hireable_true - fraction_hireable_other):.3f}\""
      ],
      "metadata": {
        "colab": {
          "base_uri": "https://localhost:8080/",
          "height": 36
        },
        "id": "CWfLY3GRNdC2",
        "outputId": "5188600e-6e7f-4961-b988-d1700ec44dfe"
      },
      "execution_count": 51,
      "outputs": [
        {
          "output_type": "execute_result",
          "data": {
            "text/plain": [
              "'nan'"
            ],
            "application/vnd.google.colaboratory.intrinsic+json": {
              "type": "string"
            }
          },
          "metadata": {},
          "execution_count": 51
        }
      ]
    },
    {
      "cell_type": "markdown",
      "source": [
        "16. Let's assume that the last word in a user's name is their surname (ignore missing names, trim and split by whitespace.) What's the most common surname?"
      ],
      "metadata": {
        "id": "eF3y1m5iOIEO"
      }
    },
    {
      "cell_type": "code",
      "source": [
        "users['name'].str.strip().str.split().str[-1].value_counts().head()"
      ],
      "metadata": {
        "colab": {
          "base_uri": "https://localhost:8080/",
          "height": 272
        },
        "id": "3-uxaqiKOJJU",
        "outputId": "6342fe44-c792-440b-ca08-e1724d7ffd19"
      },
      "execution_count": 43,
      "outputs": [
        {
          "output_type": "execute_result",
          "data": {
            "text/plain": [
              "name\n",
              "Wu        4\n",
              "Zhang     4\n",
              "Nguyen    3\n",
              "Huang     3\n",
              "Wang      3\n",
              "Name: count, dtype: int64"
            ],
            "text/html": [
              "<div>\n",
              "<style scoped>\n",
              "    .dataframe tbody tr th:only-of-type {\n",
              "        vertical-align: middle;\n",
              "    }\n",
              "\n",
              "    .dataframe tbody tr th {\n",
              "        vertical-align: top;\n",
              "    }\n",
              "\n",
              "    .dataframe thead th {\n",
              "        text-align: right;\n",
              "    }\n",
              "</style>\n",
              "<table border=\"1\" class=\"dataframe\">\n",
              "  <thead>\n",
              "    <tr style=\"text-align: right;\">\n",
              "      <th></th>\n",
              "      <th>count</th>\n",
              "    </tr>\n",
              "    <tr>\n",
              "      <th>name</th>\n",
              "      <th></th>\n",
              "    </tr>\n",
              "  </thead>\n",
              "  <tbody>\n",
              "    <tr>\n",
              "      <th>Wu</th>\n",
              "      <td>4</td>\n",
              "    </tr>\n",
              "    <tr>\n",
              "      <th>Zhang</th>\n",
              "      <td>4</td>\n",
              "    </tr>\n",
              "    <tr>\n",
              "      <th>Nguyen</th>\n",
              "      <td>3</td>\n",
              "    </tr>\n",
              "    <tr>\n",
              "      <th>Huang</th>\n",
              "      <td>3</td>\n",
              "    </tr>\n",
              "    <tr>\n",
              "      <th>Wang</th>\n",
              "      <td>3</td>\n",
              "    </tr>\n",
              "  </tbody>\n",
              "</table>\n",
              "</div><br><label><b>dtype:</b> int64</label>"
            ]
          },
          "metadata": {},
          "execution_count": 43
        }
      ]
    },
    {
      "cell_type": "code",
      "source": [
        "users['name'].str.strip().str.split().str[-1].value_counts().head(2)"
      ],
      "metadata": {
        "colab": {
          "base_uri": "https://localhost:8080/",
          "height": 178
        },
        "id": "eIWlLDKzOS5N",
        "outputId": "00c92753-424c-4020-868a-ee32cff19844"
      },
      "execution_count": 44,
      "outputs": [
        {
          "output_type": "execute_result",
          "data": {
            "text/plain": [
              "name\n",
              "Wu       4\n",
              "Zhang    4\n",
              "Name: count, dtype: int64"
            ],
            "text/html": [
              "<div>\n",
              "<style scoped>\n",
              "    .dataframe tbody tr th:only-of-type {\n",
              "        vertical-align: middle;\n",
              "    }\n",
              "\n",
              "    .dataframe tbody tr th {\n",
              "        vertical-align: top;\n",
              "    }\n",
              "\n",
              "    .dataframe thead th {\n",
              "        text-align: right;\n",
              "    }\n",
              "</style>\n",
              "<table border=\"1\" class=\"dataframe\">\n",
              "  <thead>\n",
              "    <tr style=\"text-align: right;\">\n",
              "      <th></th>\n",
              "      <th>count</th>\n",
              "    </tr>\n",
              "    <tr>\n",
              "      <th>name</th>\n",
              "      <th></th>\n",
              "    </tr>\n",
              "  </thead>\n",
              "  <tbody>\n",
              "    <tr>\n",
              "      <th>Wu</th>\n",
              "      <td>4</td>\n",
              "    </tr>\n",
              "    <tr>\n",
              "      <th>Zhang</th>\n",
              "      <td>4</td>\n",
              "    </tr>\n",
              "  </tbody>\n",
              "</table>\n",
              "</div><br><label><b>dtype:</b> int64</label>"
            ]
          },
          "metadata": {},
          "execution_count": 44
        }
      ]
    }
  ]
}
